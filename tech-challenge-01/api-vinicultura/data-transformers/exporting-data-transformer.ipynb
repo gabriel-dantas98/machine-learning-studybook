{
 "cells": [
  {
   "cell_type": "code",
   "execution_count": 1,
   "metadata": {},
   "outputs": [
    {
     "name": "stdout",
     "output_type": "stream",
     "text": [
      "Looking in indexes: https://pypi.org/simple, https://nexus.quintoandar.com.br/repository/pip-5a/, https://quintoandar.github.io/python-package-server/\n",
      "Requirement already satisfied: pandas in /Users/gabriel.dantas/pyenv/versions/3.9.12/lib/python3.9/site-packages (2.2.2)\n",
      "\u001b[31mERROR: Could not find a version that satisfies the requirement sqlite3 (from versions: none)\u001b[0m\u001b[31m\n",
      "\u001b[0m\u001b[31mERROR: No matching distribution found for sqlite3\u001b[0m\u001b[31m\n",
      "\u001b[0m\u001b[33mWARNING: You are using pip version 22.0.4; however, version 24.0 is available.\n",
      "You should consider upgrading via the '/Users/gabriel.dantas/pyenv/versions/3.9.12/bin/python -m pip install --upgrade pip' command.\u001b[0m\u001b[33m\n",
      "\u001b[0mNote: you may need to restart the kernel to use updated packages.\n"
     ]
    }
   ],
   "source": [
    "%pip install pandas sqlite3 tabulate"
   ]
  },
  {
   "cell_type": "code",
   "execution_count": 4,
   "metadata": {},
   "outputs": [
    {
     "name": "stderr",
     "output_type": "stream",
     "text": [
      "/var/folders/t2/n8s666yx17sb51gd12d2d3mc0000gp/T/ipykernel_58588/2874378533.py:5: ParserWarning: Falling back to the 'python' engine because the 'c' engine does not support regex separators (separators > 1 char and different from '\\s+' are interpreted as regex); you can avoid this warning by specifying engine='python'.\n",
      "  df = pd.read_csv(\"datasource/csv/ExpVinho.csv\", delimiter=\"/t\")\n"
     ]
    },
    {
     "data": {
      "text/html": [
       "<div>\n",
       "<style scoped>\n",
       "    .dataframe tbody tr th:only-of-type {\n",
       "        vertical-align: middle;\n",
       "    }\n",
       "\n",
       "    .dataframe tbody tr th {\n",
       "        vertical-align: top;\n",
       "    }\n",
       "\n",
       "    .dataframe thead th {\n",
       "        text-align: right;\n",
       "    }\n",
       "</style>\n",
       "<table border=\"1\" class=\"dataframe\">\n",
       "  <thead>\n",
       "    <tr style=\"text-align: right;\">\n",
       "      <th></th>\n",
       "      <th>Id;País;1970;1970;1971;1971;1972;1972;1973;1973;1974;1974;1975;1975;1976;1976;1977;1977;1978;1978;1979;1979;1980;1980;1981;1981;1982;1982;1983;1983;1984;1984;1985;1985;1986;1986;1987;1987;1988;1988;1989;1989;1990;1990;1991;1991;1992;1992;1993;1993;1994;1994;1995;1995;1996;1996;1997;1997;1998;1998;1999;1999;2000;2000;2001;2001;2002;2002;2003;2003;2004;2004;2005;2005;2006;2006;2007;2007;2008;2008;2009;2009;2010;2010;2011;2011;2012;2012;2013;2013;2014;2014;2015;2015;2016;2016;2017;2017;2018;2018;2019;2019;2020;2020;2021;2021;2022;2022</th>\n",
       "    </tr>\n",
       "  </thead>\n",
       "  <tbody>\n",
       "    <tr>\n",
       "      <th>0</th>\n",
       "      <td>1;Afeganistão;0;0;0;0;0;0;0;0;0;0;0;0;0;0;0;0;...</td>\n",
       "    </tr>\n",
       "    <tr>\n",
       "      <th>1</th>\n",
       "      <td>2;África do Sul;0;0;0;0;0;0;0;0;0;0;0;0;0;0;0;...</td>\n",
       "    </tr>\n",
       "    <tr>\n",
       "      <th>2</th>\n",
       "      <td>3;Alemanha, República Democrática;0;0;0;0;4168...</td>\n",
       "    </tr>\n",
       "    <tr>\n",
       "      <th>3</th>\n",
       "      <td>4;Angola;0;0;0;0;0;0;0;0;0;0;0;0;0;0;0;0;0;0;3...</td>\n",
       "    </tr>\n",
       "    <tr>\n",
       "      <th>4</th>\n",
       "      <td>5;Anguilla;0;0;0;0;0;0;0;0;0;0;0;0;0;0;0;0;0;0...</td>\n",
       "    </tr>\n",
       "  </tbody>\n",
       "</table>\n",
       "</div>"
      ],
      "text/plain": [
       "  Id;País;1970;1970;1971;1971;1972;1972;1973;1973;1974;1974;1975;1975;1976;1976;1977;1977;1978;1978;1979;1979;1980;1980;1981;1981;1982;1982;1983;1983;1984;1984;1985;1985;1986;1986;1987;1987;1988;1988;1989;1989;1990;1990;1991;1991;1992;1992;1993;1993;1994;1994;1995;1995;1996;1996;1997;1997;1998;1998;1999;1999;2000;2000;2001;2001;2002;2002;2003;2003;2004;2004;2005;2005;2006;2006;2007;2007;2008;2008;2009;2009;2010;2010;2011;2011;2012;2012;2013;2013;2014;2014;2015;2015;2016;2016;2017;2017;2018;2018;2019;2019;2020;2020;2021;2021;2022;2022\n",
       "0  1;Afeganistão;0;0;0;0;0;0;0;0;0;0;0;0;0;0;0;0;...                                                                                                                                                                                                                                                                                                                                                                                                                                                                                                       \n",
       "1  2;África do Sul;0;0;0;0;0;0;0;0;0;0;0;0;0;0;0;...                                                                                                                                                                                                                                                                                                                                                                                                                                                                                                       \n",
       "2  3;Alemanha, República Democrática;0;0;0;0;4168...                                                                                                                                                                                                                                                                                                                                                                                                                                                                                                       \n",
       "3  4;Angola;0;0;0;0;0;0;0;0;0;0;0;0;0;0;0;0;0;0;3...                                                                                                                                                                                                                                                                                                                                                                                                                                                                                                       \n",
       "4  5;Anguilla;0;0;0;0;0;0;0;0;0;0;0;0;0;0;0;0;0;0...                                                                                                                                                                                                                                                                                                                                                                                                                                                                                                       "
      ]
     },
     "execution_count": 4,
     "metadata": {},
     "output_type": "execute_result"
    }
   ],
   "source": [
    "import pandas as pd\n",
    "years = [str(year) for year in range(1970, 2023)]\n",
    "columns = [*[\"id\", \"control\", \"produto\"], *years]\n",
    "\n",
    "df = pd.read_csv(\"datasource/csv/ExpVinho.csv\", delimiter=\"/t\")\n",
    "df.head()\n"
   ]
  },
  {
   "cell_type": "code",
   "execution_count": 7,
   "metadata": {},
   "outputs": [
    {
     "name": "stdout",
     "output_type": "stream",
     "text": [
      "      id               control                       produto   ano     valor\n",
      "0      1         VINHO DE MESA                 VINHO DE MESA  1970  98327606\n",
      "1      2              vm_Tinto                         Tinto  1970  83300735\n",
      "2      3             vm_Rosado                        Rosado  1970    107681\n",
      "3      4             vm_Branco                        Branco  1970  14919190\n",
      "4      5   VINHO  FINO DE MESA           VINHO  FINO DE MESA  1970   4430629\n",
      "...   ..                   ...                           ...   ...       ...\n",
      "3228  57         ou_Vinho_base    Vinho base para espumantes  2022         0\n",
      "3229  58     ou_Vinho_composto                Vinho composto  2022     32000\n",
      "3230  59     ou_Vinho_licoroso                Vinho licoroso  2022    385006\n",
      "3231  60         ou_Vinho_leve                    Vinho leve  2022        27\n",
      "3232  61  ou_Vinho_gaseificado             Vinho gaseificado  2022     14947\n",
      "\n",
      "[3233 rows x 5 columns]\n"
     ]
    }
   ],
   "source": [
    "df_melted = df.melt(id_vars=['id', 'control', 'produto'], var_name='ano', value_name='valor')\n",
    "\n",
    "print(df_melted)"
   ]
  },
  {
   "cell_type": "code",
   "execution_count": 8,
   "metadata": {},
   "outputs": [
    {
     "name": "stderr",
     "output_type": "stream",
     "text": [
      "/var/folders/t2/n8s666yx17sb51gd12d2d3mc0000gp/T/ipykernel_47391/4137289874.py:13: SettingWithCopyWarning: \n",
      "A value is trying to be set on a copy of a slice from a DataFrame.\n",
      "Try using .loc[row_indexer,col_indexer] = value instead\n",
      "\n",
      "See the caveats in the documentation: https://pandas.pydata.org/pandas-docs/stable/user_guide/indexing.html#returning-a-view-versus-a-copy\n",
      "  df_final['product_id'] = [uuid.uuid4() for _ in range(len(df_final))]\n"
     ]
    },
    {
     "data": {
      "text/html": [
       "<div>\n",
       "<style scoped>\n",
       "    .dataframe tbody tr th:only-of-type {\n",
       "        vertical-align: middle;\n",
       "    }\n",
       "\n",
       "    .dataframe tbody tr th {\n",
       "        vertical-align: top;\n",
       "    }\n",
       "\n",
       "    .dataframe thead th {\n",
       "        text-align: right;\n",
       "    }\n",
       "</style>\n",
       "<table border=\"1\" class=\"dataframe\">\n",
       "  <thead>\n",
       "    <tr style=\"text-align: right;\">\n",
       "      <th></th>\n",
       "      <th>id</th>\n",
       "      <th>control</th>\n",
       "      <th>produto</th>\n",
       "      <th>ano</th>\n",
       "      <th>valor</th>\n",
       "      <th>categoria</th>\n",
       "      <th>product_id</th>\n",
       "    </tr>\n",
       "  </thead>\n",
       "  <tbody>\n",
       "    <tr>\n",
       "      <th>1</th>\n",
       "      <td>2</td>\n",
       "      <td>vm_Tinto</td>\n",
       "      <td>Tinto</td>\n",
       "      <td>1970</td>\n",
       "      <td>83300735</td>\n",
       "      <td>VINHO DE MESA</td>\n",
       "      <td>f4805707-b3e2-4be3-aab0-cdb7e6ba4c6d</td>\n",
       "    </tr>\n",
       "    <tr>\n",
       "      <th>2</th>\n",
       "      <td>3</td>\n",
       "      <td>vm_Rosado</td>\n",
       "      <td>Rosado</td>\n",
       "      <td>1970</td>\n",
       "      <td>107681</td>\n",
       "      <td>VINHO DE MESA</td>\n",
       "      <td>263e39ff-d3b2-4725-94c0-a7b962658aaf</td>\n",
       "    </tr>\n",
       "    <tr>\n",
       "      <th>3</th>\n",
       "      <td>4</td>\n",
       "      <td>vm_Branco</td>\n",
       "      <td>Branco</td>\n",
       "      <td>1970</td>\n",
       "      <td>14919190</td>\n",
       "      <td>VINHO DE MESA</td>\n",
       "      <td>29ae2986-7584-4595-b61c-3feb7d7fc86f</td>\n",
       "    </tr>\n",
       "    <tr>\n",
       "      <th>5</th>\n",
       "      <td>6</td>\n",
       "      <td>vm_Tinto</td>\n",
       "      <td>Tinto</td>\n",
       "      <td>1970</td>\n",
       "      <td>435354</td>\n",
       "      <td>VINHO  FINO DE MESA</td>\n",
       "      <td>755dc3be-90fa-48f0-88aa-4cd3e655d759</td>\n",
       "    </tr>\n",
       "    <tr>\n",
       "      <th>6</th>\n",
       "      <td>7</td>\n",
       "      <td>vm_Rosado</td>\n",
       "      <td>Rosado</td>\n",
       "      <td>1970</td>\n",
       "      <td>183234</td>\n",
       "      <td>VINHO  FINO DE MESA</td>\n",
       "      <td>d677681f-823f-41ab-a460-8b285e7b1c70</td>\n",
       "    </tr>\n",
       "  </tbody>\n",
       "</table>\n",
       "</div>"
      ],
      "text/plain": [
       "   id    control   produto   ano     valor            categoria  \\\n",
       "1   2   vm_Tinto     Tinto  1970  83300735        VINHO DE MESA   \n",
       "2   3  vm_Rosado    Rosado  1970    107681        VINHO DE MESA   \n",
       "3   4  vm_Branco    Branco  1970  14919190        VINHO DE MESA   \n",
       "5   6   vm_Tinto     Tinto  1970    435354  VINHO  FINO DE MESA   \n",
       "6   7  vm_Rosado    Rosado  1970    183234  VINHO  FINO DE MESA   \n",
       "\n",
       "                             product_id  \n",
       "1  f4805707-b3e2-4be3-aab0-cdb7e6ba4c6d  \n",
       "2  263e39ff-d3b2-4725-94c0-a7b962658aaf  \n",
       "3  29ae2986-7584-4595-b61c-3feb7d7fc86f  \n",
       "5  755dc3be-90fa-48f0-88aa-4cd3e655d759  \n",
       "6  d677681f-823f-41ab-a460-8b285e7b1c70  "
      ]
     },
     "execution_count": 8,
     "metadata": {},
     "output_type": "execute_result"
    }
   ],
   "source": [
    "import uuid\n",
    "\n",
    "df_to_transform = df_melted.copy()\n",
    "\n",
    "categoria_atual = None\n",
    "for idx, row in df_to_transform.iterrows():\n",
    "    if row['control'].isupper():\n",
    "        categoria_atual = row['produto']\n",
    "    else:\n",
    "        df_to_transform.loc[idx, 'categoria'] = categoria_atual\n",
    "\n",
    "df_final = df_to_transform[df_to_transform['categoria'].notnull()]\n",
    "df_final['product_id'] = [uuid.uuid4() for _ in range(len(df_final))]\n",
    "\n",
    "df_final.to_csv(\"datasource/csv/Comercio_transformed.csv\", index=False)\n",
    "\n",
    "df_final.head()"
   ]
  }
 ],
 "metadata": {
  "kernelspec": {
   "display_name": "Python 3",
   "language": "python",
   "name": "python3"
  },
  "language_info": {
   "codemirror_mode": {
    "name": "ipython",
    "version": 3
   },
   "file_extension": ".py",
   "mimetype": "text/x-python",
   "name": "python",
   "nbconvert_exporter": "python",
   "pygments_lexer": "ipython3",
   "version": "3.9.12"
  }
 },
 "nbformat": 4,
 "nbformat_minor": 2
}
